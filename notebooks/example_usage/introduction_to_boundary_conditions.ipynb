{
 "cells": [
  {
   "cell_type": "markdown",
   "metadata": {},
   "source": [
    "![terrainbento logo](../images/terrainbento_logo.png)\n",
    "\n",
    "\n",
    "# Introduction to boundary conditions in terrainbento.\n",
    "\n",
    "\n",
    "## Overview\n",
    "This tutorial shows example usage of the terrainbento boundary handlers. For comprehensive information about all options and defaults, refer to the [documentation](http://terrainbento.readthedocs.io/en/latest/). \n",
    "\n",
    "## Prerequisites\n",
    "This tutorial assumes you have at least skimmed the [terrainbento manuscript](https://www.geosci-model-dev.net/12/1267/2019/) and worked through the [Introduction to terrainbento](http://localhost:8888/notebooks/example_usage/Introduction_to_terrainbento.ipynb) tutorial.\n",
    "\n",
    "### terrainbento boundary handlers\n",
    "terrainbento includes five boundary handlers designed to make it easier to treat different model run boundary conditions. Four boundary handlers modify the model grid in order to change the base level the model sees. The final one calculates how changes in precipitation distribution statistics change the value of erodibility by water. Hyperlinks in the list below go to the documentation for each of the boundary condition handlers. \n",
    "\n",
    "1. [`CaptureNodeBaselevelHandler`](http://terrainbento.readthedocs.io/en/latest/source/terrainbento.boundary_condition_handlers.capture_node_baselevel_handler.html) implements external drainage capture. \n",
    "2. [`SingleNodeBaselevelHandler`](http://terrainbento.readthedocs.io/en/latest/source/terrainbento.boundary_condition_handlers.single_node_baselevel_handler.html) modifies the elevation of one model grid node, intended to be the outlet of a modeled watershed. \n",
    "3. [`NotCoreNodeBaselevelHandler`](http://terrainbento.readthedocs.io/en/latest/source/terrainbento.boundary_condition_handlers.not_core_node_baselevel_handler.html) either increments all the core nodes, or all the not-core nodes up or down. \n",
    "4. [`GenericFuncBaselevelHandler`](http://terrainbento.readthedocs.io/en/latest/source/terrainbento.boundary_condition_handlers.generic_function_baselevel_handler.html) is a generic boundary condition handler that modifies the model grid based on a user specified function of the model grid and model time. \n",
    "5. [`PrecipChanger`](http://terrainbento.readthedocs.io/en/latest/source/terrainbento.boundary_condition_handlers.precip_changer.html) modifies precipitation distribution parameters (in **St** models) or erodibility by water (all other models). \n",
    "\n",
    "If you have additional questions related to using the boundary handlers or your research requires additonal tools to handle boundary conditions, please let us know by making an [Issue on GitHub](https://github.com/TerrainBento/terrainbento/issues). \n",
    "\n",
    "In the `SingleNodeBaselevelHandler` and the `NotCoreNodeBaselevelHandler`, rate of baselevel fall at a single node or at all not-core model grid nodes can be specified as a constant rate or a time-elevation history. These and other options are described in the documentation. Note that a model instance can have more than one boundary handler at a time.\n",
    "\n",
    "The swiss-army knife of boundary condition handling is the `GenericFuncBaselevelHandler` so we will focus on it today. \n",
    "\n",
    "### Example Usage\n",
    "\n",
    "To begin, we will import the required python modules. "
   ]
  },
  {
   "cell_type": "code",
   "execution_count": null,
   "metadata": {},
   "outputs": [],
   "source": [
    "import numpy as np\n",
    "np.random.seed(42)\n",
    "\n",
    "import matplotlib\n",
    "import matplotlib.pyplot as plt\n",
    "%matplotlib inline\n",
    "\n",
    "import holoviews as hv\n",
    "hv.notebook_extension('matplotlib')\n",
    "\n",
    "from terrainbento import Basic"
   ]
  },
  {
   "cell_type": "markdown",
   "metadata": {},
   "source": [
    "Rather than taking a constant baselevel fall rate, the `GenericFuncBoundaryHandler` takes a function. This function is expected to accept two arguments --- the model grid and the elapsed model integration time --- and return an array of size number-of-model-grid-nodes that represents the spatially variable rate of boundary lowering or core-node uplift. \n",
    "\n",
    "For our example we will create a model grid initially at ~1000 m elevation at all grid nodes, then we will progressively drop the model boundary elevations. We will vary the spatial and temporal pattern of boundary elevations such that the boundaries will drop more rapidly at the beginning of the model run than at the end and the boundaries will drop more on the bottom of the model grid domain than on the top.  \n",
    "\n",
    "If you are not familiar with user defined python functions, consider reviewing [this tutorial](https://www.datacamp.com/community/tutorials/functions-python-tutorial#udf). \n",
    "\n",
    "Thus our function will look as follows:"
   ]
  },
  {
   "cell_type": "code",
   "execution_count": null,
   "metadata": {},
   "outputs": [],
   "source": [
    "def dropping_boundary_condition_1(grid, t):\n",
    "    f = 0.007\n",
    "    dzdt = -1. * (2e5 - t) / 2e5 * f * (\n",
    "        (grid.y_of_node.max() - grid.y_of_node) / grid.y_of_node.max())\n",
    "    return dzdt"
   ]
  },
  {
   "cell_type": "markdown",
   "metadata": {},
   "source": [
    "Importantly, note that this function returns the *rate* at which the boundary will drop, *not* the elevation of the boundary through time. \n",
    "\n",
    "Next we construct the parameter dictionary we need to initialize the terrainbento model. For this example we will just use the **Basic** model. \n",
    "\n",
    "In order to specify that we want to use the `GenericFuncBaselevelHandler` we provide it as a value to the parameter `BoundaryHandlers`. We can provide the parameters the baselevel handler needs directly in the parameter dictionary, or we can create a new sub-dictionary, as is done below. "
   ]
  },
  {
   "cell_type": "code",
   "execution_count": null,
   "metadata": {},
   "outputs": [],
   "source": [
    "import numpy as np\n",
    "np.random.seed(42)\n",
    "basic_params = {\n",
    "    # create the Clock.\n",
    "    \"clock\": {\n",
    "        \"start\": 0,\n",
    "        \"step\": 1000,\n",
    "        \"stop\": 2e5\n",
    "    },\n",
    "\n",
    "    # Create the Grid.\n",
    "    \"grid\": {\n",
    "        \"RasterModelGrid\": [(50, 80), {\n",
    "            \"xy_spacing\": 20\n",
    "        }, {\n",
    "            \"fields\": {\n",
    "                \"node\": {\n",
    "                    \"topographic__elevation\": {\n",
    "                        \"random\": [{\n",
    "                            \"where\": \"CORE_NODE\"\n",
    "                        }],\n",
    "                        \"constant\": [{\n",
    "                            \"value\": 1000.\n",
    "                        }]\n",
    "                    }\n",
    "                }\n",
    "            }\n",
    "        }]\n",
    "    },\n",
    "\n",
    "    # Set up Boundary Handlers\n",
    "    \"boundary_handlers\": {\n",
    "        \"GenericFuncBaselevelHandler\": {\n",
    "            \"function\": dropping_boundary_condition_1\n",
    "        }\n",
    "    },\n",
    "\n",
    "    # Parameters that control output.\n",
    "    \"output_interval\": 5e3,\n",
    "    \"save_first_timestep\": True,\n",
    "    \"output_prefix\": \"model_basic_output_intro_bc\",\n",
    "    \"fields\": [\"topographic__elevation\"],\n",
    "\n",
    "    # Parameters that control process and rates.\n",
    "    \"water_erodibility\": 0.0001,\n",
    "    \"m_sp\": 0.5,\n",
    "    \"n_sp\": 1.0,\n",
    "    \"regolith_transport_parameter\": 0.01,\n",
    "}"
   ]
  },
  {
   "cell_type": "markdown",
   "metadata": {},
   "source": [
    "Next we create a model instance, run it, create an xarray dataset of the model output, and convert it to the holoviews format. "
   ]
  },
  {
   "cell_type": "code",
   "execution_count": null,
   "metadata": {},
   "outputs": [],
   "source": [
    "basic = Basic.from_dict(basic_params)\n",
    "basic.run()\n",
    "ds = basic.to_xarray_dataset(time_unit='years', space_unit='meters')\n",
    "hvds_topo = hv.Dataset(ds.topographic__elevation)"
   ]
  },
  {
   "cell_type": "markdown",
   "metadata": {},
   "source": [
    "Finally we create an image of the topography with a slider bar. "
   ]
  },
  {
   "cell_type": "code",
   "execution_count": null,
   "metadata": {},
   "outputs": [],
   "source": [
    "%opts Image style(interpolation='bilinear', cmap='viridis') plot[colorbar=True]\n",
    "topo = hvds_topo.to(hv.Image, ['x', 'y'], label='Rate Decreases')\n",
    "topo"
   ]
  },
  {
   "cell_type": "markdown",
   "metadata": {
    "collapsed": true
   },
   "source": [
    "### Contrasting with a slightly different boundary condition\n",
    "\n",
    "If we wanted a different pattern, we would just need to change the function. For example, if we wanted to compare a similar boundary condition in which the rate of boundary lowering increased through time instead of decreasing through time our function would look as follows:"
   ]
  },
  {
   "cell_type": "code",
   "execution_count": null,
   "metadata": {},
   "outputs": [],
   "source": [
    "def dropping_boundary_condition_2(grid, t):\n",
    "    f = 0.007\n",
    "    dzdt = -1. * (t) / 2e5 * f * (\n",
    "        (grid.y_of_node.max() - grid.y_of_node) / grid.y_of_node.max())\n",
    "    return dzdt"
   ]
  },
  {
   "cell_type": "markdown",
   "metadata": {},
   "source": [
    "Next we will make a new model that is exactly the same as the other model but uses the new function and a different output file name. "
   ]
  },
  {
   "cell_type": "code",
   "execution_count": null,
   "metadata": {},
   "outputs": [],
   "source": [
    "second_model_params = {\n",
    "    # create the Clock.\n",
    "    \"clock\": {\n",
    "        \"start\": 0,\n",
    "        \"step\": 1000,\n",
    "        \"stop\": 2e5\n",
    "    },\n",
    "\n",
    "    # Create the Grid.\n",
    "    \"grid\": {\n",
    "        \"RasterModelGrid\": [(50, 80), {\n",
    "            \"xy_spacing\": 20\n",
    "        }, {\n",
    "            \"fields\": {\n",
    "                \"node\": {\n",
    "                    \"topographic__elevation\": {\n",
    "                        \"random\": [{\n",
    "                            \"where\": \"CORE_NODE\"\n",
    "                        }],\n",
    "                        \"constant\": [{\n",
    "                            \"value\": 1000.\n",
    "                        }]\n",
    "                    }\n",
    "                }\n",
    "            }\n",
    "        }]\n",
    "    },\n",
    "\n",
    "    # Set up Boundary Handlers\n",
    "    \"boundary_handlers\": {\n",
    "        \"GenericFuncBaselevelHandler\": {\n",
    "            \"function\": dropping_boundary_condition_2\n",
    "        }\n",
    "    },\n",
    "\n",
    "    # Parameters that control output.\n",
    "    \"output_interval\": 5e3,\n",
    "    \"save_first_timestep\": True,\n",
    "    \"output_prefix\": \"model_basic_new_bc\",\n",
    "    \"fields\": [\"topographic__elevation\"],\n",
    "\n",
    "    # Parameters that control process and rates.\n",
    "    \"water_erodibility\": 0.0001,\n",
    "    \"m_sp\": 0.5,\n",
    "    \"n_sp\": 1.0,\n",
    "    \"regolith_transport_parameter\": 0.01,\n",
    "}\n",
    "\n",
    "basic2 = Basic.from_dict(second_model_params)\n",
    "basic2.run()\n",
    "ds2 = basic2.to_xarray_dataset(time_unit='years', space_unit='meters')\n",
    "hvds_topo2 = hv.Dataset(ds2.topographic__elevation)"
   ]
  },
  {
   "cell_type": "markdown",
   "metadata": {},
   "source": [
    "Finally we plot both models together to compare them. "
   ]
  },
  {
   "cell_type": "code",
   "execution_count": null,
   "metadata": {},
   "outputs": [],
   "source": [
    "%opts Image style(interpolation='bilinear', cmap='viridis') plot[colorbar=True]\n",
    "topo2 = hvds_topo2.to(hv.Image, ['x', 'y'], label='Rate Increases')\n",
    "topo + topo2"
   ]
  },
  {
   "cell_type": "markdown",
   "metadata": {},
   "source": [
    "As you can see, the landscapes created by the **Basic** model with the two slightly different boundary conditions are different. One thing to think about is what sort of geologic settings might create each of these two alternative boundary conditions and how you could quantitatively compare these two output landscapes. \n",
    "\n",
    "Finally we remove the xarray datasets from and use the model function `remove_output_netcdfs` to remove the files created by running the model. "
   ]
  },
  {
   "cell_type": "code",
   "execution_count": null,
   "metadata": {},
   "outputs": [],
   "source": [
    "del topo, hvds_topo, topo2, hvds_topo2\n",
    "\n",
    "ds.close()\n",
    "ds2.close()\n",
    "basic.remove_output_netcdfs()\n",
    "basic2.remove_output_netcdfs()"
   ]
  },
  {
   "cell_type": "markdown",
   "metadata": {
    "collapsed": true
   },
   "source": [
    "## Next Steps\n",
    "\n",
    "- We recommend you review the [terrainbento manuscript](https://www.geosci-model-dev.net/12/1267/2019/).\n",
    "\n",
    "**The links to other notebooks will not work on GitHub. To use them you'll need to clone this repository and open the notebooks using [`jupyter notebook`](https://jupyter.org).**\n",
    "\n",
    "- There are three additional introductory tutorials: \n",
    "\n",
    "    1) [Introduction terrainbento](http://localhost:8888/notebooks/example_usage/Introduction_to_terrainbento.ipynb) \n",
    "    \n",
    "    2) **This Notebook**: [Introduction to boundary conditions in terrainbento](http://localhost:8888/notebooks/notebooks/example_usage/introduction_to_boundary_conditions.ipynb)\n",
    "    \n",
    "    3) [Introduction to output writers in terrainbento](http://localhost:8888/notebooks/notebooks/example_usage/introduction_to_output_writers.ipynb). \n",
    "    \n",
    "    \n",
    "- Five examples of steady state behavior in coupled process models can be found in the following notebooks:\n",
    "\n",
    "    1) [Basic](http://localhost:8888/notebooks/notebooks/coupled_process_elements/model_basic_steady_solution.ipynb) the simplest landscape evolution model in the terrainbento package.\n",
    "\n",
    "    2) [BasicVm](http://localhost:8888/notebooks/notebooks/coupled_process_elements/model_basic_var_m_steady_solution.ipynb) which permits the drainage area exponent to change\n",
    "\n",
    "    3) [BasicCh](http://localhost:8888/notebooks/notebooks/coupled_process_elements/model_basicCh_steady_solution.ipynb) which uses a non-linear hillslope erosion and transport law\n",
    "\n",
    "    4) [BasicVs](http://localhost:8888/notebooks/notebooks/coupled_process_elements/model_basicVs_steady_solution.ipynb) which uses variable source area hydrology\n",
    "\n",
    "    5) [BasisRt](http://localhost:8888/notebooks/notebooks/coupled_process_elements/model_basicRt_steady_solution.ipynb) which allows for two lithologies with different K values"
   ]
  },
  {
   "cell_type": "code",
   "execution_count": null,
   "metadata": {},
   "outputs": [],
   "source": []
  }
 ],
 "metadata": {
  "kernelspec": {
   "display_name": "Python 3",
   "language": "python",
   "name": "python3"
  },
  "language_info": {
   "codemirror_mode": {
    "name": "ipython",
    "version": 3
   },
   "file_extension": ".py",
   "mimetype": "text/x-python",
   "name": "python",
   "nbconvert_exporter": "python",
   "pygments_lexer": "ipython3",
   "version": "3.7.3"
  }
 },
 "nbformat": 4,
 "nbformat_minor": 2
}
