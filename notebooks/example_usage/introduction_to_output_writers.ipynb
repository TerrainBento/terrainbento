{
 "cells": [
  {
   "cell_type": "markdown",
   "metadata": {},
   "source": [
    "![terrainbento logo](../images/terrainbento_logo.png)\n",
    "\n",
    "\n",
    "# Introduction to the terrainbento output writers.\n",
    "\n",
    "\n",
    "## Overview\n",
    "This tutorial shows example usage of the terrainbento boundary handlers. For comprehensive information about all options and defaults, refer to the [documentation](http://terrainbento.readthedocs.io/en/latest/). \n",
    "\n",
    "## Prerequisites\n",
    "This tutorial assumes you have at least skimmed the [terrainbento manuscript](https://www.geosci-model-dev.net/12/1267/2019/) and worked through the [Introduction to terrainbento](http://localhost:8888/notebooks/example_usage/Introduction_to_terrainbento.ipynb) tutorial.\n",
    "\n",
    "\n",
    "### terrainbento output writers\n",
    "\n",
    "By default terrainbento will save a [NetCDF](https://www.unidata.ucar.edu/software/netcdf/) file at equal intervals specified by the ``output_interval`` parameter. For many applications it may be sufficient to run a model, save output, and then open the stack of NetCDFs for postprocessing (we recommend [xarray](http://xarray.pydata.org/en/stable/) and [holoviews](http://holoviews.org) for opening, analyzing, and plotting stacks of NetCDFs in python). The default NetCDF writer can be turned off by passing ``output_default_netcdf=False`` to the model constructor.\n",
    "\n",
    "If in your application, you want to have additional output written at the ``output_interval`` intervals, you can pass any number of functions or classes that write this ouput to terrainbento. These functions and classes are called **output writers**. There is no limit to what you can do with the output writers. You could use them to make plots to turn into an animation, write diagnostic information about model run time, or calculate an objective function value over time. If you want multiple writers with independent output intervals and/or some file management functions, you will benefit from using **advanced output writers**. The only restriction with advanced output writers is that output times must occur on normal model steps (i.e. a multiple of the model step).\n",
    "\n",
    "To make the output writers support as many possible use cases, terrainbento was designed to take any combination and number of function, class, and advanced output writers.\n",
    "\n",
    "### Reference material\n",
    "If you are not familiar with user defined python functions, consider reviewing [this tutorial](https://www.datacamp.com/community/tutorials/functions-python-tutorial#udf). If you are not familiar with user defined python classes, consider referring to [this tutorial](https://www.digitalocean.com/community/tutorials/how-to-construct-classes-and-define-objects-in-python-3).\n",
    "\n",
    "\n",
    "## Example Usage\n",
    "\n",
    "To begin, we will import the required python modules. "
   ]
  },
  {
   "cell_type": "code",
   "execution_count": null,
   "metadata": {},
   "outputs": [],
   "source": [
    "import numpy as np\n",
    "np.random.seed(42)\n",
    "\n",
    "import os\n",
    "import glob\n",
    "import re\n",
    "\n",
    "import numpy as np\n",
    "import pandas as pd\n",
    "\n",
    "import matplotlib as mpl\n",
    "import matplotlib.pyplot as plt\n",
    "%matplotlib inline\n",
    "\n",
    "import warnings # Used to suppress Deprecation warnings. Not essential for your model.\n",
    "\n",
    "from landlab.components import DrainageDensity\n",
    "from landlab import imshow_grid\n",
    "\n",
    "from terrainbento import Basic\n",
    "\n",
    "# The following is for advanced output writers and isn't necessary for basic usage.\n",
    "from terrainbento.output_writers import GenericOutputWriter, StaticIntervalOutputWriter"
   ]
  },
  {
   "cell_type": "markdown",
   "metadata": {},
   "source": [
    "### Function output writers\n",
    "We begin by creating an example user-defined output writer function. When a terrainbento model runs the `OutputWriter` function, it will pass the model instance to the output writer. Thus the output writer function must be able to make all required calculations and plots based on the model instance. It is almost always the case that a user will want to write some sort of output -- typically a text file or plot -- each time the output writer is run. \n",
    "\n",
    "A user has the option of appending the output writer output to a file or using the model attributes `model.model_time` or `model.iteration` in the output file name to distinguish it from other files.  \n",
    "\n"
   ]
  },
  {
   "cell_type": "code",
   "execution_count": null,
   "metadata": {},
   "outputs": [],
   "source": [
    "def name_of_output_writer_function(model):\n",
    "    # put lines of code here that use the model object to calculate outputs\n",
    "    # for example, mean elevation\n",
    "    val = model.z.mean()\n",
    "\n",
    "    # write output, option 1: unique files per timestep\n",
    "    with open('name_of_file.' + str(int(model.iteration)) + '.txt', 'w') as f:\n",
    "        f.write(str(val))\n",
    "\n",
    "    # write output, option 2: append values to same file\n",
    "    with open('name_of_file.txt', 'a') as f:\n",
    "        f.write(\n",
    "            str(model.iteration) + ', ' + str(model.model_time) + ', ' +\n",
    "            str(val) + '\\n')"
   ]
  },
  {
   "cell_type": "markdown",
   "metadata": {},
   "source": [
    "Here we will define an output writer called `write_drainage_density`. Not surprisingly, it calculates and writes out the drainage density of a model domain. The **DrainageDensity** component has two options for identifying where channels are located -- either a user-specified channel mask or a slope-area threshold. We will use this latter option. "
   ]
  },
  {
   "cell_type": "code",
   "execution_count": null,
   "metadata": {},
   "outputs": [],
   "source": [
    "def write_drainage_density(model):\n",
    "    dd = DrainageDensity(model.grid,\n",
    "                         area_coefficient=0.1,\n",
    "                         slope_coefficient=1.0,\n",
    "                         area_exponent=0.5,\n",
    "                         slope_exponent=0.6,\n",
    "                         channelization_threshold=0.35)\n",
    "    mean_drainage_density = dd.calculate_drainage_density()\n",
    "    if np.isinf(mean_drainage_density):\n",
    "        mean_drainage_density = 0.0\n",
    "    fname = 'drainage_density.txt'\n",
    "    if os.path.exists(fname) is False:\n",
    "        with open(fname, 'w') as f:\n",
    "            f.write('model_time,drainage_density\\n')\n",
    "\n",
    "    with open(fname, 'a') as f:\n",
    "        f.write(\n",
    "            str(model.model_time) + ', ' + str(mean_drainage_density) + '\\n')\n",
    "\n",
    "    del dd"
   ]
  },
  {
   "cell_type": "markdown",
   "metadata": {},
   "source": [
    "Next we construct the parameter dictionary we will use to run the model. "
   ]
  },
  {
   "cell_type": "code",
   "execution_count": null,
   "metadata": {},
   "outputs": [],
   "source": [
    "basic_params = {\n",
    "    # create the Clock.\n",
    "    \"clock\": {\n",
    "        \"start\": 0,\n",
    "        \"step\": 1000,\n",
    "        \"stop\": 2e5\n",
    "    },\n",
    "\n",
    "    # Create the Grid\n",
    "    \"grid\": {\n",
    "        \"RasterModelGrid\": [\n",
    "            (25, 40),\n",
    "            {\n",
    "                \"xy_spacing\": 40\n",
    "            },\n",
    "            {\n",
    "                \"fields\": {\n",
    "                    \"node\": {\n",
    "                        \"topographic__elevation\": {\n",
    "                            \"random\": [{\n",
    "                                \"where\": \"CORE_NODE\"\n",
    "                            }]\n",
    "                        }\n",
    "                    }\n",
    "                }\n",
    "            },\n",
    "        ]\n",
    "    },\n",
    "\n",
    "    # Set up Boundary Handlers\n",
    "    \"boundary_handlers\": {\n",
    "        \"NotCoreNodeBaselevelHandler\": {\n",
    "            \"modify_core_nodes\": True,\n",
    "            \"lowering_rate\": -0.0005\n",
    "        }\n",
    "    },\n",
    "    # Parameters that control output.\n",
    "    \"output_interval\": 1e3,\n",
    "    \"save_first_timestep\": True,\n",
    "    \"output_prefix\": \"model_basic_output_intro_ow1\",\n",
    "    \"fields\": [\"topographic__elevation\"],\n",
    "\n",
    "    # Parameters that control process and rates.\n",
    "    \"water_erodibility\": 0.001,\n",
    "    \"m_sp\": 0.5,\n",
    "    \"n_sp\": 1.0,\n",
    "    \"regolith_transport_parameter\": 0.1,\n",
    "}"
   ]
  },
  {
   "cell_type": "markdown",
   "metadata": {},
   "source": [
    "Unline the boundary handlers described in [this tutorial](http://localhost:8888/notebooks/example_usage/introduction_to_boundary_conditions.ipynb), we pass the output writer to terrainbento as a keyword argument. \n",
    "\n",
    "After instantiating the model, we run it. "
   ]
  },
  {
   "cell_type": "code",
   "execution_count": null,
   "metadata": {},
   "outputs": [],
   "source": [
    "basic = Basic.from_dict(basic_params,\n",
    "                        output_writers={\"function\": [write_drainage_density]})\n",
    "basic.run()"
   ]
  },
  {
   "cell_type": "markdown",
   "metadata": {},
   "source": [
    "First we will make a plot of the topography. We have evolved some nice valleys and ridges. "
   ]
  },
  {
   "cell_type": "code",
   "execution_count": null,
   "metadata": {},
   "outputs": [],
   "source": [
    "imshow_grid(basic.grid, basic.z)"
   ]
  },
  {
   "cell_type": "markdown",
   "metadata": {},
   "source": [
    "Next we plot the channel mask from the last timestep. It is stored in an at-node grid field called `chanel__mask`."
   ]
  },
  {
   "cell_type": "code",
   "execution_count": null,
   "metadata": {},
   "outputs": [],
   "source": [
    "channel__mask = basic.grid.at_node['channel__mask'].astype(int)\n",
    "imshow_grid(basic.grid, channel__mask)"
   ]
  },
  {
   "cell_type": "markdown",
   "metadata": {},
   "source": [
    "Our mask identifies the channel areas. \n",
    "\n",
    "Next we will read in the output we wrote to the file `drainage_density.txt` using [pandas](https://pandas.pydata.org) and remove the files created by running the model. In your usage you probably won't want to remove these files, but we are doing it so that running the model won't create lots of files in your directory. "
   ]
  },
  {
   "cell_type": "code",
   "execution_count": null,
   "metadata": {},
   "outputs": [],
   "source": [
    "df = pd.read_csv('drainage_density.txt')\n",
    "basic.remove_output_netcdfs()\n",
    "os.remove('drainage_density.txt')"
   ]
  },
  {
   "cell_type": "markdown",
   "metadata": {},
   "source": [
    "We can look at what is inside of the dataframe. "
   ]
  },
  {
   "cell_type": "code",
   "execution_count": null,
   "metadata": {},
   "outputs": [],
   "source": [
    "df.head()"
   ]
  },
  {
   "cell_type": "code",
   "execution_count": null,
   "metadata": {},
   "outputs": [],
   "source": [
    "df.columns"
   ]
  },
  {
   "cell_type": "markdown",
   "metadata": {},
   "source": [
    "This dataframe shows us the history of drainage density through time. Next we will plot it. "
   ]
  },
  {
   "cell_type": "code",
   "execution_count": null,
   "metadata": {},
   "outputs": [],
   "source": [
    "plt.figure()\n",
    "plt.plot(df.model_time, df.drainage_density)\n",
    "plt.xlabel('Model Time [years]')\n",
    "plt.ylabel('Drainage Density')\n",
    "plt.show()"
   ]
  },
  {
   "cell_type": "markdown",
   "metadata": {},
   "source": [
    "### Using a class instead of a function\n",
    "\n",
    "terrainbento can support output writer classes. The simplest form of output class needs to look something like the following."
   ]
  },
  {
   "cell_type": "markdown",
   "metadata": {},
   "source": [
    "\n"
   ]
  },
  {
   "cell_type": "code",
   "execution_count": null,
   "metadata": {},
   "outputs": [],
   "source": [
    "class my_ouput_writer_class(object):\n",
    "    def __init__(self, model):\n",
    "        # save the model to the output writer class\n",
    "        self.model = model\n",
    "        # do whatever else you want to do here:\n",
    "    def run_one_step(self):\n",
    "        # make calculations\n",
    "\n",
    "        # write something out based on the calculations.\n",
    "        # we recommend including the model time as a part of\n",
    "        # the filename so that it is possible to identify\n",
    "        # what time each file is associated with\n",
    "\n",
    "        pass  # remove this line when you modify this example."
   ]
  },
  {
   "cell_type": "markdown",
   "metadata": {},
   "source": [
    "You might ask: when is an output writer class more appropriate than a function? The answer is that if you can calculate everything you need from the model instance at a given timestep, you probably can just use a function. However, if you need information from past timesteps, you'll need to use a class. \n",
    "\n",
    "For example, here we will use a simple example in which the output writer writes out the mean and maximum elevation averaged over a few timesteps. We could not do this with a function. "
   ]
  },
  {
   "cell_type": "code",
   "execution_count": null,
   "metadata": {},
   "outputs": [],
   "source": [
    "class time_averaged_elevation(object):\n",
    "    def __init__(self, model):\n",
    "        self.model = model\n",
    "        self.model_time = []\n",
    "        self.model_mean_elevation = []\n",
    "        self.model_max_elevation = []\n",
    "\n",
    "    def run_one_step(self):\n",
    "        self.model_time.append(self.model.model_time)\n",
    "        self.model_mean_elevation.append(\n",
    "            self.model.z[self.model.grid.core_nodes].mean())\n",
    "        self.model_max_elevation.append(\n",
    "            self.model.z[self.model.grid.core_nodes].max())\n",
    "        if len(self.model_time) >= 5:\n",
    "            with open(\n",
    "                    'time_averaged_elevation.' +\n",
    "                    str(int(self.model.model_time)) + '.txt', 'w') as f:\n",
    "                f.write(str(np.mean(self.model_mean_elevation[-5:])) + '\\n')\n",
    "                f.write(str(np.mean(self.model_max_elevation[-5:])) + '\\n')"
   ]
  },
  {
   "cell_type": "markdown",
   "metadata": {},
   "source": [
    "Next we run the model with the new output writer. Note that if you want to use more than one output writer you can just provide a list of functions and classes. "
   ]
  },
  {
   "cell_type": "code",
   "execution_count": null,
   "metadata": {},
   "outputs": [],
   "source": [
    "basic_params = {\n",
    "    # create the Clock.\n",
    "    \"clock\": {\n",
    "        \"start\": 0,\n",
    "        \"step\": 1000,\n",
    "        \"stop\": 2e5\n",
    "    },\n",
    "\n",
    "    # Create the Grid\n",
    "    \"grid\": {\n",
    "        \"RasterModelGrid\": [\n",
    "            (25, 40),\n",
    "            {\n",
    "                \"xy_spacing\": 40\n",
    "            },\n",
    "            {\n",
    "                \"fields\": {\n",
    "                    \"node\": {\n",
    "                        \"topographic__elevation\": {\n",
    "                            \"random\": [{\n",
    "                                \"where\": \"CORE_NODE\"\n",
    "                            }]\n",
    "                        }\n",
    "                    }\n",
    "                }\n",
    "            },\n",
    "        ]\n",
    "    },\n",
    "\n",
    "    # Set up Boundary Handlers\n",
    "    \"boundary_handlers\": {\n",
    "        \"NotCoreNodeBaselevelHandler\": {\n",
    "            \"modify_core_nodes\": True,\n",
    "            \"lowering_rate\": -0.0005\n",
    "        }\n",
    "    },\n",
    "    # Parameters that control output.\n",
    "    \"output_interval\": 1e3,\n",
    "    \"save_first_timestep\": True,\n",
    "    \"output_prefix\": \"model_basic_output_intro_ow2\",\n",
    "    \"fields\": [\"topographic__elevation\"],\n",
    "\n",
    "    # Parameters that control process and rates.\n",
    "    \"water_erodibility\": 0.001,\n",
    "    \"m_sp\": 0.5,\n",
    "    \"n_sp\": 1.0,\n",
    "    \"regolith_transport_parameter\": 0.1,\n",
    "}\n",
    "\n",
    "basic = Basic.from_dict(basic_params,\n",
    "                        output_writers={\n",
    "                            \"function\": [write_drainage_density],\n",
    "                            \"class\": [time_averaged_elevation]\n",
    "                        })\n",
    "\n",
    "basic.run()"
   ]
  },
  {
   "cell_type": "markdown",
   "metadata": {},
   "source": [
    "Now that we've run the model we will compile all of the output into a dataframe and plot it. "
   ]
  },
  {
   "cell_type": "code",
   "execution_count": null,
   "metadata": {},
   "outputs": [],
   "source": [
    "output_files = glob.glob('time_averaged_elevation.*.txt')\n",
    "temp = {}\n",
    "for of in output_files:\n",
    "    with open(of, 'r') as f:\n",
    "        model_time = int(of.split('.')[-2])\n",
    "        mean_elev = float(f.readline())\n",
    "        max_elev = float(f.readline())\n",
    "        temp[model_time] = {\n",
    "            'mean_elevation': mean_elev,\n",
    "            \"max_elevation\": max_elev\n",
    "        }\n",
    "    os.remove(of)\n",
    "df = pd.DataFrame(temp).T\n",
    "df = df.sort_index()\n",
    "\n",
    "basic.remove_output_netcdfs()\n",
    "os.remove('drainage_density.txt')\n",
    "\n",
    "plt.figure()\n",
    "plt.plot(df.index.values, df.mean_elevation, label='Mean')\n",
    "plt.plot(df.index.values, df.max_elevation, label='Max')\n",
    "plt.legend()\n",
    "plt.xlabel('Model Time [years]')\n",
    "plt.ylabel('Elevation [meters]')\n",
    "plt.show()"
   ]
  },
  {
   "cell_type": "code",
   "execution_count": null,
   "metadata": {},
   "outputs": [],
   "source": [
    "df.head()"
   ]
  },
  {
   "cell_type": "markdown",
   "metadata": {},
   "source": [
    "### Using advanced output classes\n",
    "The output function and class methods shown above only work with the single ``output_interval`` argument provided to the model. If you want better control of when to write output, your output writer class should inherit GenericOutputWriter or, more likely, StaticIntervalOutputWriter.\n",
    "\n",
    "GenericOutputWriter is the base class for all output writers and provides the common interface functions for the model to interact with. Output times are controlled by providing the generic class an iterator of output times either via the constructor or by calling ``register_times_iter`` any time before starting the model run. The iterator can be any sequence of (mostly) monotonically increasing floats and the generic class will automatically restrict times to the clock stop time (for infinite iterators). Inheriting GenericOutputWriter is the best option if you want to use unusual output times (e.g. output on a log scale or output times based on map conditions).\n",
    "\n",
    "StaticIntervalOutputWriter will be the better choice for most use cases. You tell it what interval or predetermined output times you want, and it handles all the iterator business under the hood.\n",
    "\n",
    "Like the simple class ouptut writers above, your inheritting class needs to define ``run_one_step`` to make the actual output. Unlike the simple class output writers, all advanced output writers have access to the ``filename_prefix`` property which strings together the model's prefix, output writer's name, and the output time so you can easily generate meaningful standardized filenames. Additionally, every time you make a file, you can register the new file with ``register_output_filepath`` in order to use some convenient file management functions.\n",
    "\n",
    "Your class should have a form similar to:"
   ]
  },
  {
   "cell_type": "code",
   "execution_count": null,
   "metadata": {},
   "outputs": [],
   "source": [
    "class my_advanced_ouput_writer_class(StaticIntervalOutputWriter):\n",
    "    def __init__(self, model, **static_interval_kwargs):\n",
    "        # Call the StaticIntervalOutputWriter constructor and pass all the kwargs\n",
    "        # The important kwargs are \"name\" and \"intervals\" or \"times\"\n",
    "        super().__init__(model, **static_interval_kwargs)\n",
    "\n",
    "        # do whatever else you want to do here\n",
    "        \n",
    "    def run_one_step(self):\n",
    "        # make calculations if applicable\n",
    "\n",
    "        # write something out based on the calculations.\n",
    "        # self.filename_prefix includes the model time, but if \n",
    "        # you use your own, we recommend including the model time \n",
    "        # as a part of the filename so that it is possible to \n",
    "        # identify what time each file is associated with\n",
    "        \n",
    "        # Call self.register_output_filepath(new_filepath) if desired\n",
    "        \n",
    "        pass  # remove this line when you modify this example."
   ]
  },
  {
   "cell_type": "markdown",
   "metadata": {},
   "source": [
    "#### The two most important keyword arguments for StaticIntervalOutputWriter are ``intervals`` and ``times``. Do not define both when calling the constructor.\n",
    "\n",
    "``intervals`` can be either a single float value or a list of float values that represent a uniform interval between outputs or a repeating sequence of intervals between output, respectively. Providing a single float interval behaves the same as the earlier function/class output writers with the model's ``output_interval`` argument, except that each writer can have its own interval. Single intervals and interval lists are repeated automatically.\n",
    "\n",
    "``times`` can be a single float or a list of floats that represent one or more predetermined output times.\n",
    "\n",
    "You can force the writer to output on the first (i.e. initial conditions) and last step by passing ``save_first_step=True`` and ``save_last_step=True``, respectively, regardless of whether ``intervals`` or ``times`` would normally include those two times. Default behavior saves the last step but not the first step.\n",
    "\n",
    "``name`` is used both for identifying the writer and for generating filename prefixes. Default names are provided, but won't be very specific.\n",
    "\n",
    "We will create three classes below to highlight some of the timing features of advanced output writers. They will plot the mean, max, and min of the topographic elevation at different interval times. I show the parameter dictionary definition below the class but not actually run the code until later.\n",
    "\n",
    "Let's start with what will probably be the most common use case: simple uniform intervals."
   ]
  },
  {
   "cell_type": "code",
   "execution_count": null,
   "metadata": {},
   "outputs": [],
   "source": [
    "class UniformIntervalsExample(StaticIntervalOutputWriter):\n",
    "    def __init__(self, model, **static_interval_kwargs): \n",
    "        super().__init__(model, **static_interval_kwargs)\n",
    "        \n",
    "    def run_one_step(self):\n",
    "        # Calculate the mean elevation\n",
    "        z = self.model.z[self.model.grid.core_nodes]\n",
    "        mean_elevation = z.mean()\n",
    "\n",
    "        # Save the data to a file\n",
    "        filename = f\"{self.filename_prefix}.txt\"\n",
    "        filepath = self.make_filepath(filename)\n",
    "        with open(filepath, 'w') as f:\n",
    "            f.write(str(mean_elevation) + '\\n')\n",
    "            \n",
    "        # Register the new filepath\n",
    "        self.register_output_filepath(filepath)\n",
    "\n",
    "# Here is the dictionary entry for this writer:\n",
    "# Note: 'uniform-intervals' becomes the name of the writer.\n",
    "# output_writers_params = {\n",
    "#     ...\n",
    "#     'uniform-intervals': {\n",
    "#         'class': UniformIntervalsExample,\n",
    "#         'kwargs': {\n",
    "#             'intervals':5000,\n",
    "#         }\n",
    "#     },\n",
    "#     ...\n",
    "# }"
   ]
  },
  {
   "cell_type": "markdown",
   "metadata": {},
   "source": [
    "Now let's define an output writer that will alternate intervals. In this case, I want to output with a one-two punch cadence, so the output times will be: 0, 1e3, 10e3, 11e3, 20e3, 21e3, 30e3, 31e3, ...\n",
    "Note that 0 will be produced only because ``save_first_timestep`` will be ``True``. \n",
    "\n",
    "The definition is mostly the same as UniformIntervalsExample, but I set a different default name and write a different value. If it weren't for the different output, they could have easily been the same class with different values passed to the constructor (including name)."
   ]
  },
  {
   "cell_type": "code",
   "execution_count": null,
   "metadata": {},
   "outputs": [],
   "source": [
    "class RepeatingIntervalsExample(StaticIntervalOutputWriter):\n",
    "    def __init__(self, model, **static_interval_kwargs):\n",
    "        super().__init__(model, **static_interval_kwargs)\n",
    "        \n",
    "    def run_one_step(self):\n",
    "        # Calculate the max elevation\n",
    "        z = self.model.z[self.model.grid.core_nodes]\n",
    "        max_elevation = z.max()\n",
    "        \n",
    "        # Save the data to a file\n",
    "        filename = f\"{self.filename_prefix}.txt\"\n",
    "        filepath = self.make_filepath(filename)\n",
    "        with open(filepath, 'w') as f:\n",
    "            f.write(str(max_elevation) + '\\n')\n",
    "            \n",
    "        # Register the new filepath\n",
    "        self.register_output_filepath(filepath)\n",
    "\n",
    "# Here is the dictionary entry for this writer:\n",
    "# Note: 'repeating-intervals' becomes the name of the writer.\n",
    "# output_writers_params = {\n",
    "#     ...\n",
    "#     'repeating-intervals': {\n",
    "#         'class': RepeatingIntervalsExample,\n",
    "#         'kwargs': {\n",
    "#             'intervals':[1000,9000],\n",
    "#         }\n",
    "#     },\n",
    "#     ...\n",
    "# }"
   ]
  },
  {
   "cell_type": "markdown",
   "metadata": {},
   "source": [
    "Let's also define an output writer which uses it's own custom iterator. In this example, the output times will roughly follow a log scale where it ouputs 9 evenly spaced values for each power of 10 indefinitely."
   ]
  },
  {
   "cell_type": "code",
   "execution_count": null,
   "metadata": {},
   "outputs": [],
   "source": [
    "class CustomIterExample(GenericOutputWriter):\n",
    "    def __init__(self, model, init_power=0, **generic_kwargs):\n",
    "        super().__init__(model, **generic_kwargs)\n",
    "        \n",
    "        # Create the log iterator starting with the provided initial power\n",
    "        # Ex. init_power=1 yields 10.0 as the first value\n",
    "        log_iter = self.log_fu(init_power)\n",
    "        \n",
    "        # Register the iter\n",
    "        self.register_times_iter(log_iter)\n",
    "    \n",
    "    def log_fu(self, power=0):\n",
    "        # Define an infinite iterator that generates 9 values for each power of ten.\n",
    "        # Can pick a different starting power by passing something other than zero\n",
    "        # e.g. log_fu(1) will generate floats for:\n",
    "        #     10, 20, 30, 40, 50, 60, 70, 80, 90,\n",
    "        #     100, 200, 300, 400, 500, 600, 700, 800, 900,\n",
    "        #     1000, 2000, 3000, ...\n",
    "        while True:\n",
    "            for i in range(1,10):\n",
    "                yield 10.0**power * i\n",
    "            power += 1\n",
    "                \n",
    "    def run_one_step(self):\n",
    "        # Calculate the min elevation\n",
    "        z = self.model.z[self.model.grid.core_nodes]\n",
    "        min_elevation = z.min()\n",
    "\n",
    "        # Save the data to a file\n",
    "        filename = f\"{self.filename_prefix}.txt\"\n",
    "        filepath = self.make_filepath(filename)\n",
    "        with open(filepath, 'w') as f:\n",
    "            f.write(str(min_elevation) + '\\n')\n",
    "            \n",
    "        # Register the new filepath\n",
    "        self.register_output_filepath(filepath)\n",
    "\n",
    "# Here is the dictionary entry for this writer:\n",
    "# Note: 'log-intervals' becomes the name of the writer.\n",
    "# output_writers_params = {\n",
    "#     ...\n",
    "#     'log-intervals': {\n",
    "#         'class': CustomIterExample,\n",
    "#         'kwargs': {\n",
    "#             'init_power':3,\n",
    "#         }\n",
    "#     },\n",
    "#     ...\n",
    "# }"
   ]
  },
  {
   "cell_type": "markdown",
   "metadata": {},
   "source": [
    "Now we will define the general parameters for the model."
   ]
  },
  {
   "cell_type": "code",
   "execution_count": null,
   "metadata": {},
   "outputs": [],
   "source": [
    "basic_params = {\n",
    "    # create the Clock.\n",
    "    \"clock\": {\n",
    "        \"start\": 0,\n",
    "        \"step\": 1000,\n",
    "        \"stop\": 2e5,\n",
    "    },\n",
    "\n",
    "    # Create the Grid\n",
    "    \"grid\": {\n",
    "        \"RasterModelGrid\": [\n",
    "            (25, 40),\n",
    "            {\n",
    "                \"xy_spacing\": 40\n",
    "            },\n",
    "            {\n",
    "                \"fields\": {\n",
    "                    \"node\": {\n",
    "                        \"topographic__elevation\": {\n",
    "                            \"random\": [{\n",
    "                                \"where\": \"CORE_NODE\"\n",
    "                            }]\n",
    "                        }\n",
    "                    }\n",
    "                }\n",
    "            },\n",
    "        ]\n",
    "    },\n",
    "\n",
    "    # Set up Boundary Handlers\n",
    "    \"boundary_handlers\": {\n",
    "        \"NotCoreNodeBaselevelHandler\": {\n",
    "            \"modify_core_nodes\": True,\n",
    "            \"lowering_rate\": -0.0005\n",
    "        }\n",
    "    },\n",
    "    # Parameters that control output.\n",
    "    #\"output_interval\": 1e3, # Not used for these examples\n",
    "    \"save_first_timestep\": True,\n",
    "    \"save_last_timestep\": True,\n",
    "    \"output_prefix\": \"model_basic_output_intro_ow3\",\n",
    "    \"fields\": [\"topographic__elevation\"],\n",
    "\n",
    "    # Parameters that control process and rates.\n",
    "    \"water_erodibility\": 0.001,\n",
    "    \"m_sp\": 0.5,\n",
    "    \"n_sp\": 1.0,\n",
    "    \"regolith_transport_parameter\": 0.1,\n",
    "}"
   ]
  },
  {
   "cell_type": "markdown",
   "metadata": {},
   "source": [
    "Now we define output writer dictionary with all the writer parameters."
   ]
  },
  {
   "cell_type": "code",
   "execution_count": null,
   "metadata": {},
   "outputs": [],
   "source": [
    "output_writers_params = {\n",
    "    'uniform-intervals': {\n",
    "        'class': UniformIntervalsExample,\n",
    "        'kwargs': {\n",
    "            'intervals':5000,\n",
    "        }\n",
    "    },\n",
    "    'repeating-intervals': {\n",
    "        'class': RepeatingIntervalsExample,\n",
    "        'kwargs': {\n",
    "            'intervals':[1000,9000],\n",
    "        }\n",
    "    },\n",
    "    'log-intervals': {\n",
    "        'class': CustomIterExample,\n",
    "        'kwargs': {\n",
    "            'init_power':3,\n",
    "        }\n",
    "    },\n",
    "}"
   ]
  },
  {
   "cell_type": "markdown",
   "metadata": {},
   "source": [
    "Now we will initialize the model and run it."
   ]
  },
  {
   "cell_type": "code",
   "execution_count": null,
   "metadata": {
    "scrolled": true
   },
   "outputs": [],
   "source": [
    "basic = Basic.from_dict(basic_params, output_writers=output_writers_params)\n",
    "basic.run()"
   ]
  },
  {
   "cell_type": "markdown",
   "metadata": {},
   "source": [
    "Now we will read the output file and generate a plot showing the data. Read the next markdown cell for more info about the resulting plots."
   ]
  },
  {
   "cell_type": "code",
   "execution_count": null,
   "metadata": {},
   "outputs": [],
   "source": [
    "# Define a function to read all the txt filepaths from a writer\n",
    "# Return the data in a Pandas Dataframe\n",
    "def read_filepaths(ow_name):\n",
    "    filepaths = basic.get_output(extension='txt', writer=ow_name)\n",
    "\n",
    "    data_dict = {}\n",
    "    for fp in filepaths:\n",
    "        time_str = re.search('time-\\d+\\.\\d+', fp)[0]\n",
    "        model_time = float(time_str[5:])\n",
    "        with open(fp, 'r') as f:\n",
    "            value = float(f.readline())\n",
    "            data_dict[model_time] = {ow_name: value}\n",
    "            \n",
    "    df = pd.DataFrame(data_dict).T\n",
    "    df.index.name = 'Model time (yrs)'\n",
    "    \n",
    "    return df\n",
    "\n",
    "# Now read the data from the three writers and concatenate them into one large dataframe\n",
    "ow_names = ['repeating-intervals', 'uniform-intervals', 'log-intervals']\n",
    "frames = []\n",
    "for name in ow_names:\n",
    "    frames.append(read_filepaths(name))\n",
    "data = pd.concat(frames)\n",
    "\n",
    "# Clean up the files now that we have read the data.\n",
    "basic.remove_output()\n",
    "\n",
    "# Create the figure.\n",
    "fig, axes = plt.subplots(2, 1, figsize=(15,10))\n",
    "ax1, ax2 = axes\n",
    "\n",
    "# Plot the data.\n",
    "# Pandas plotting has a minor bug which throws matplotlib deprecation warnings. Ignore them.\n",
    "with warnings.catch_warnings():\n",
    "    warnings.simplefilter(\"ignore\", category=mpl.MatplotlibDeprecationWarning)\n",
    "    data.plot(ax=ax1, marker='+', markersize=10)\n",
    "    data[data.index > 0].plot(ax=ax2, marker='+', markersize=10, logx=True)\n",
    "\n",
    "\n",
    "# Format the linear scale plot\n",
    "ax1.set_title(\"Comparison of output intervals in linear time scale\")\n",
    "ax1.grid(alpha=0.25)\n",
    "ax1.set_xticks(range(0, 2*10**5+1, 10**4))\n",
    "ax1.set_ylabel(\"Elevation (m)\")\n",
    "\n",
    "# Format the log scale plot\n",
    "ax2.set_title(\"Comparison of output intervals in log time scale\")\n",
    "ax2.grid(alpha=0.25)\n",
    "ax2.set_xticks([i*10**p for p in [3,4,5] for i in [1,2,3,4,5,6,7,8,9]])\n",
    "ax2.set_xlim((0.9*10**3, 300*10**3))\n",
    "ax2.set_ylabel(\"Elevation (m)\")\n",
    "\n",
    "plt.show()"
   ]
  },
  {
   "cell_type": "markdown",
   "metadata": {},
   "source": [
    "The first plot shows the repeating and uniform intervals nicely and the second plot shows the log intervals nicely (t=0 is ignored for log plot).\n",
    "\n",
    "While the actual data in these plots are not very useful, the key aspect here is <i>when</i> the output writers generated output. The advanced output writers can have independent and arbitrary output times. The only restriction (a design decision, not an actual computational limit) is that times must occur on a normal model step."
   ]
  },
  {
   "cell_type": "markdown",
   "metadata": {},
   "source": [
    "## Next Steps\n",
    "\n",
    "- We recommend you review the [terrainbento manuscript](https://www.geosci-model-dev.net/12/1267/2019/).\n",
    "\n",
    "- There are three additional introductory tutorials: \n",
    "\n",
    "    1) [Introduction terrainbento](Introduction_to_terrainbento.ipynb) \n",
    "    \n",
    "    2) [Introduction to boundary conditions in terrainbento](introduction_to_boundary_conditions.ipynb)\n",
    "    \n",
    "    3) **This Notebook**: [Introduction to output writers in terrainbento](introduction_to_output_writers.ipynb). \n",
    "    \n",
    "    \n",
    "- Five examples of steady state behavior in coupled process models can be found in the following notebooks:\n",
    "\n",
    "    1) [Basic](../coupled_process_elements/model_basic_steady_solution.ipynb) the simplest landscape evolution model in the terrainbento package.\n",
    "\n",
    "    2) [BasicVm](../coupled_process_elements/model_basic_var_m_steady_solution.ipynb) which permits the drainage area exponent to change\n",
    "\n",
    "    3) [BasicCh](../coupled_process_elements/model_basicCh_steady_solution.ipynb) which uses a non-linear hillslope erosion and transport law\n",
    "\n",
    "    4) [BasicVs](../coupled_process_elements/model_basicVs_steady_solution.ipynb) which uses variable source area hydrology\n",
    "\n",
    "    5) [BasisRt](../coupled_process_elements/model_basicRt_steady_solution.ipynb) which allows for two lithologies with different K values"
   ]
  }
 ],
 "metadata": {
  "kernelspec": {
   "display_name": "Python 3",
   "language": "python",
   "name": "python3"
  },
  "language_info": {
   "codemirror_mode": {
    "name": "ipython",
    "version": 3
   },
   "file_extension": ".py",
   "mimetype": "text/x-python",
   "name": "python",
   "nbconvert_exporter": "python",
   "pygments_lexer": "ipython3",
   "version": "3.8.5"
  }
 },
 "nbformat": 4,
 "nbformat_minor": 2
}
