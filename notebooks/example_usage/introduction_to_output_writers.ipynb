{
 "cells": [
  {
   "cell_type": "markdown",
   "metadata": {},
   "source": [
    "![terrainbento logo](../images/terrainbento_logo.png)\n",
    "\n",
    "\n",
    "# Introduction to the terrainbento output writers.\n",
    "\n",
    "\n",
    "## Overview\n",
    "This tutorial shows example usage of the terrainbento boundary handlers. For comprehensive information about all options and defaults, refer to the [documentation](http://terrainbento.readthedocs.io/en/latest/). \n",
    "\n",
    "## Prerequisites\n",
    "This tutorial assumes you have at least skimmed the [terrainbento manuscript](https://www.geosci-model-dev.net/12/1267/2019/) and worked through the [Introduction to terrainbento](http://localhost:8888/notebooks/example_usage/Introduction_to_terrainbento.ipynb) tutorial.\n",
    "\n",
    "\n",
    "### terrainbento output writers\n",
    "\n",
    "By default terrainbento will save a [NetCDF](https://www.unidata.ucar.edu/software/netcdf/) file at equal intervals specified by the ``output_interval`` parameter. For many applications it may be sufficient to run a model, save output, and then open the stack of NetCDFs for postprocessing (we recommend [xarray](http://xarray.pydata.org/en/stable/) and [holoviews](http://holoviews.org) for opening, analyzing, and plotting stacks of NetCDFs in python). \n",
    "\n",
    "If in your application, you want to have additional output written at the ``output_interval`` intervals, you can pass any number of functions or classes that write this ouput to terrainbento. These functions and classes are called **output writers**. There is no limit to what you can do with the output writers. You could use them to make plots to turn into an animation, write diagnostic information about model run time, or calculate an objective function value over time. \n",
    "\n",
    "To make the output writers support as many possible use cases, terrainbento was designed to take any number of functions or classes as output writers. \n",
    "\n",
    "### Reference material\n",
    "If you are not familiar with user defined python functions, consider reviewing [this tutorial](https://www.datacamp.com/community/tutorials/functions-python-tutorial#udf). If you are not familiar with user defined python classes, consider referring to [this tutorial](https://www.digitalocean.com/community/tutorials/how-to-construct-classes-and-define-objects-in-python-3).\n",
    "\n",
    "\n",
    "### Example Usage\n",
    "\n",
    "To begin, we will import the required python modules. "
   ]
  },
  {
   "cell_type": "code",
   "execution_count": null,
   "metadata": {},
   "outputs": [],
   "source": [
    "import numpy as np\n",
    "np.random.seed(42)\n",
    "\n",
    "import os\n",
    "import glob\n",
    "\n",
    "import numpy as np\n",
    "import pandas as pd\n",
    "\n",
    "import matplotlib\n",
    "import matplotlib.pyplot as plt\n",
    "%matplotlib inline\n",
    "\n",
    "from landlab.components import DrainageDensity\n",
    "from landlab import imshow_grid\n",
    "\n",
    "from terrainbento import Basic"
   ]
  },
  {
   "cell_type": "markdown",
   "metadata": {},
   "source": [
    "We begin by creating an example user defined output writer function. When a terrainbento model runs the `OutputWriter` function, it will pass the model instance to the output writer. Thus the output writer function must be able to make all required calculations and plots based on the model instance. It is almost always the case that a user will want to write some sort of output -- typically a text file or plot -- each time the output writer is run. \n",
    "\n",
    "A user has the option of appending the output writer output to a file or using the model attributes `model.model_time` or `model.iteration` in the output file name to distinguish it from other files.  \n",
    "\n"
   ]
  },
  {
   "cell_type": "code",
   "execution_count": null,
   "metadata": {},
   "outputs": [],
   "source": [
    "def name_of_output_writer_function(model):\n",
    "    # put lines of code here that use the model object to calculate outputs\n",
    "    # for example, mean elevation\n",
    "    val = model.z.mean()\n",
    "\n",
    "    # write output, option 1: unique files per timestep\n",
    "    with open('name_of_file.' + str(int(model.iteration)) + '.txt', 'w') as f:\n",
    "        f.write(str(val))\n",
    "\n",
    "    # write output, option 2: append values to same file\n",
    "    with open('name_of_file.txt', 'a') as f:\n",
    "        f.write(\n",
    "            str(model.iteration) + ', ' + str(model.model_time) + ', ' +\n",
    "            str(val) + '\\n')"
   ]
  },
  {
   "cell_type": "markdown",
   "metadata": {},
   "source": [
    "Here we will define an output writer called `write_drainage_density`. Not surprisingly, it calculates and writes out the drainage density of a model domain. The **DrainageDensity** component has two options for identifying where channels are located -- either a user-specified channel mask or a slope-area threshold. We will use this latter option. "
   ]
  },
  {
   "cell_type": "code",
   "execution_count": null,
   "metadata": {},
   "outputs": [],
   "source": [
    "def write_drainage_density(model):\n",
    "    dd = DrainageDensity(model.grid,\n",
    "                         area_coefficient=0.1,\n",
    "                         slope_coefficient=1.0,\n",
    "                         area_exponent=0.5,\n",
    "                         slope_exponent=0.6,\n",
    "                         channelization_threshold=0.35)\n",
    "    mean_drainage_density = dd.calc_drainage_density()\n",
    "    if np.isinf(mean_drainage_density):\n",
    "        mean_drainage_density = 0.0\n",
    "    fname = 'drainage_density.txt'\n",
    "    if os.path.exists(fname) is False:\n",
    "        with open(fname, 'w') as f:\n",
    "            f.write('model_time,drainage_density\\n')\n",
    "\n",
    "    with open(fname, 'a') as f:\n",
    "        f.write(\n",
    "            str(model.model_time) + ', ' + str(mean_drainage_density) + '\\n')\n",
    "\n",
    "    del dd"
   ]
  },
  {
   "cell_type": "markdown",
   "metadata": {},
   "source": [
    "Next we construct the parameter dictionary we will use to run the model. "
   ]
  },
  {
   "cell_type": "code",
   "execution_count": null,
   "metadata": {},
   "outputs": [],
   "source": [
    "basic_params = {\n",
    "    # create the Clock.\n",
    "    \"clock\": {\n",
    "        \"start\": 0,\n",
    "        \"step\": 1000,\n",
    "        \"stop\": 2e5\n",
    "    },\n",
    "\n",
    "    # Create the Grid\n",
    "    \"grid\": {\n",
    "        \"RasterModelGrid\": [\n",
    "            (50, 80),\n",
    "            {\n",
    "                \"xy_spacing\": 20\n",
    "            },\n",
    "            {\n",
    "                \"fields\": {\n",
    "                    \"node\": {\n",
    "                        \"topographic__elevation\": {\n",
    "                            \"random\": [{\n",
    "                                \"where\": \"CORE_NODE\"\n",
    "                            }]\n",
    "                        }\n",
    "                    }\n",
    "                }\n",
    "            },\n",
    "        ]\n",
    "    },\n",
    "\n",
    "    # Set up Boundary Handlers\n",
    "    \"boundary_handlers\": {\n",
    "        \"NotCoreNodeBaselevelHandler\": {\n",
    "            \"modify_core_nodes\": True,\n",
    "            \"lowering_rate\": -0.0005\n",
    "        }\n",
    "    },\n",
    "    # Parameters that control output.\n",
    "    \"output_interval\": 1e3,\n",
    "    \"save_first_timestep\": True,\n",
    "    \"output_prefix\": \"model_basic_output_intro_ow1\",\n",
    "    \"fields\": [\"topographic__elevation\"],\n",
    "\n",
    "    # Parameters that control process and rates.\n",
    "    \"water_erodibility\": 0.001,\n",
    "    \"m_sp\": 0.5,\n",
    "    \"n_sp\": 1.0,\n",
    "    \"regolith_transport_parameter\": 0.1,\n",
    "}"
   ]
  },
  {
   "cell_type": "markdown",
   "metadata": {},
   "source": [
    "Unline the boundary handlers described in [this tutorial](http://localhost:8888/notebooks/example_usage/introduction_to_boundary_conditions.ipynb), we pass the output writer to terrainbento as a keyword argument. \n",
    "\n",
    "After instantiating the model, we run it. "
   ]
  },
  {
   "cell_type": "code",
   "execution_count": null,
   "metadata": {},
   "outputs": [],
   "source": [
    "basic = Basic.from_dict(basic_params,\n",
    "                        output_writers={\"function\": [write_drainage_density]})\n",
    "basic.run()"
   ]
  },
  {
   "cell_type": "markdown",
   "metadata": {},
   "source": [
    "First we will make a plot of the topography. We have evolved some nice valleys and ridges. "
   ]
  },
  {
   "cell_type": "code",
   "execution_count": null,
   "metadata": {},
   "outputs": [],
   "source": [
    "imshow_grid(basic.grid, basic.z)"
   ]
  },
  {
   "cell_type": "markdown",
   "metadata": {},
   "source": [
    "Next we plot the channel mask from the last timestep. It is stored in an at-node grid field called `chanel__mask`."
   ]
  },
  {
   "cell_type": "code",
   "execution_count": null,
   "metadata": {},
   "outputs": [],
   "source": [
    "channel__mask = basic.grid.at_node['channel__mask'].astype(int)\n",
    "imshow_grid(basic.grid, channel__mask)"
   ]
  },
  {
   "cell_type": "markdown",
   "metadata": {},
   "source": [
    "Our mask identifies the channel areas. \n",
    "\n",
    "Next we will read in the output we wrote to the file `drainage_density.txt` using [pandas](https://pandas.pydata.org) and remove the files created by running the model. In your usage you probably won't want to remove these files, but we are doing it so that running the model won't create lots of files in your directory. "
   ]
  },
  {
   "cell_type": "code",
   "execution_count": null,
   "metadata": {},
   "outputs": [],
   "source": [
    "df = pd.read_csv('drainage_density.txt')\n",
    "basic.remove_output_netcdfs()\n",
    "os.remove('drainage_density.txt')"
   ]
  },
  {
   "cell_type": "markdown",
   "metadata": {},
   "source": [
    "We can look at what is inside of the dataframe. "
   ]
  },
  {
   "cell_type": "code",
   "execution_count": null,
   "metadata": {},
   "outputs": [],
   "source": [
    "df.head()"
   ]
  },
  {
   "cell_type": "code",
   "execution_count": null,
   "metadata": {},
   "outputs": [],
   "source": [
    "df.columns"
   ]
  },
  {
   "cell_type": "markdown",
   "metadata": {},
   "source": [
    "This dataframe shows us the history of drainage density through time. Next we will plot it. "
   ]
  },
  {
   "cell_type": "code",
   "execution_count": null,
   "metadata": {},
   "outputs": [],
   "source": [
    "plt.figure()\n",
    "plt.plot(df.model_time, df.drainage_density)\n",
    "plt.xlabel('Model Time [years]')\n",
    "plt.ylabel('Drainage Density')\n",
    "plt.show()"
   ]
  },
  {
   "cell_type": "markdown",
   "metadata": {},
   "source": [
    "### Using a class instead of a function\n",
    "\n",
    "terrainbento can support output writer classes. It is expected that the class will look something like the following."
   ]
  },
  {
   "cell_type": "markdown",
   "metadata": {},
   "source": [
    "\n"
   ]
  },
  {
   "cell_type": "code",
   "execution_count": null,
   "metadata": {},
   "outputs": [],
   "source": [
    "class my_ouput_writer_class(object):\n",
    "    def __init__(self, model):\n",
    "        # save the model to the output writer class\n",
    "        self.model = model\n",
    "        # do whatever else you want to do here:\n",
    "    def run_one_step(self):\n",
    "        # make calculations\n",
    "\n",
    "        # write something out based on the calculations.\n",
    "        # we recommend including the model time as a part of\n",
    "        # the filename so that it is possible to identify\n",
    "        # what time each file is associated with\n",
    "\n",
    "        pass  # remove this line when you modify this example."
   ]
  },
  {
   "cell_type": "markdown",
   "metadata": {},
   "source": [
    "You might ask: when is an output writer class more appropriate than a function? The answer is that if you can calculate everything you need from the model instance at a given timestep, you probably can just use a function. However, if you need information from past timesteps, you'll need to use a class. \n",
    "\n",
    "For example, here we will use a simple example in which the output writer writes out the mean and maximum elevation averaged over a few timesteps. We could not do this with a function. "
   ]
  },
  {
   "cell_type": "code",
   "execution_count": null,
   "metadata": {},
   "outputs": [],
   "source": [
    "class time_averaged_elevation(object):\n",
    "    def __init__(self, model):\n",
    "        self.model = model\n",
    "        self.model_time = []\n",
    "        self.model_mean_elevation = []\n",
    "        self.model_max_elevation = []\n",
    "\n",
    "    def run_one_step(self):\n",
    "        self.model_time.append(self.model.model_time)\n",
    "        self.model_mean_elevation.append(\n",
    "            self.model.z[self.model.grid.core_nodes].mean())\n",
    "        self.model_max_elevation.append(\n",
    "            self.model.z[self.model.grid.core_nodes].max())\n",
    "        if len(self.model_time) >= 5:\n",
    "            with open(\n",
    "                    'time_averaged_elevation.' +\n",
    "                    str(int(self.model.model_time)) + '.txt', 'w') as f:\n",
    "                f.write(str(np.mean(self.model_mean_elevation[-5:])) + '\\n')\n",
    "                f.write(str(np.mean(self.model_max_elevation[-5:])) + '\\n')"
   ]
  },
  {
   "cell_type": "markdown",
   "metadata": {},
   "source": [
    "Next we run the model with the new output writer. Note that if you want to use more than one output writer you can just provide a list of functions and classes. "
   ]
  },
  {
   "cell_type": "code",
   "execution_count": null,
   "metadata": {},
   "outputs": [],
   "source": [
    "basic_params = {\n",
    "    # create the Clock.\n",
    "    \"clock\": {\n",
    "        \"start\": 0,\n",
    "        \"step\": 1000,\n",
    "        \"stop\": 2e5\n",
    "    },\n",
    "\n",
    "    # Create the Grid\n",
    "    \"grid\": {\n",
    "        \"RasterModelGrid\": [\n",
    "            (50, 80),\n",
    "            {\n",
    "                \"xy_spacing\": 20\n",
    "            },\n",
    "            {\n",
    "                \"fields\": {\n",
    "                    \"node\": {\n",
    "                        \"topographic__elevation\": {\n",
    "                            \"random\": [{\n",
    "                                \"where\": \"CORE_NODE\"\n",
    "                            }]\n",
    "                        }\n",
    "                    }\n",
    "                }\n",
    "            },\n",
    "        ]\n",
    "    },\n",
    "\n",
    "    # Set up Boundary Handlers\n",
    "    \"boundary_handlers\": {\n",
    "        \"NotCoreNodeBaselevelHandler\": {\n",
    "            \"modify_core_nodes\": True,\n",
    "            \"lowering_rate\": -0.0005\n",
    "        }\n",
    "    },\n",
    "    # Parameters that control output.\n",
    "    \"output_interval\": 1e3,\n",
    "    \"save_first_timestep\": True,\n",
    "    \"output_prefix\": \"model_basic_output_intro_ow2\",\n",
    "    \"fields\": [\"topographic__elevation\"],\n",
    "\n",
    "    # Parameters that control process and rates.\n",
    "    \"water_erodibility\": 0.001,\n",
    "    \"m_sp\": 0.5,\n",
    "    \"n_sp\": 1.0,\n",
    "    \"regolith_transport_parameter\": 0.1,\n",
    "}\n",
    "\n",
    "basic = Basic.from_dict(basic_params,\n",
    "                        output_writers={\n",
    "                            \"function\": [write_drainage_density],\n",
    "                            \"class\": [time_averaged_elevation]\n",
    "                        })\n",
    "\n",
    "basic.run()"
   ]
  },
  {
   "cell_type": "markdown",
   "metadata": {},
   "source": [
    "Now that we've run the model we will compile all of the output into a dataframe and plot it. "
   ]
  },
  {
   "cell_type": "code",
   "execution_count": null,
   "metadata": {},
   "outputs": [],
   "source": [
    "output_files = glob.glob('time_averaged_elevation.*.txt')\n",
    "temp = {}\n",
    "for of in output_files:\n",
    "    with open(of, 'r') as f:\n",
    "        model_time = int(of.split('.')[-2])\n",
    "        mean_elev = float(f.readline())\n",
    "        max_elev = float(f.readline())\n",
    "        temp[model_time] = {\n",
    "            'mean_elevation': mean_elev,\n",
    "            \"max_elevation\": max_elev\n",
    "        }\n",
    "    os.remove(of)\n",
    "df = pd.DataFrame(temp).T\n",
    "df = df.sort_index()\n",
    "\n",
    "basic.remove_output_netcdfs()\n",
    "os.remove('drainage_density.txt')\n",
    "\n",
    "plt.figure()\n",
    "plt.plot(df.index.values, df.mean_elevation, label='Mean')\n",
    "plt.plot(df.index.values, df.max_elevation, label='Max')\n",
    "plt.legend()\n",
    "plt.xlabel('Model Time [years]')\n",
    "plt.ylabel('Elevation [meters]')\n",
    "plt.show()"
   ]
  },
  {
   "cell_type": "code",
   "execution_count": null,
   "metadata": {},
   "outputs": [],
   "source": [
    "df.head()"
   ]
  },
  {
   "cell_type": "markdown",
   "metadata": {},
   "source": [
    "## Next Steps\n",
    "\n",
    "- We recommend you review the [terrainbento manuscript](https://www.geosci-model-dev.net/12/1267/2019/).\n",
    "\n",
    "**The links to other notebooks will not work on GitHub. To use them you'll need to clone this repository and open the notebooks using [`jupyter notebook`](https://jupyter.org).**\n",
    "\n",
    "- There are three additional introductory tutorials: \n",
    "\n",
    "    1) [Introduction terrainbento](http://localhost:8888/notebooks/notebooks/example_usage/Introduction_to_terrainbento.ipynb) \n",
    "    \n",
    "    2) [Introduction to boundary conditions in terrainbento](http://localhost:8888/notebooks/notebooks/example_usage/introduction_to_boundary_conditions.ipynb)\n",
    "    \n",
    "    3) **This Notebook**: [Introduction to output writers in terrainbento](http://localhost:8888/notebooks/notebooks/example_usage/introduction_to_output_writers.ipynb). \n",
    "    \n",
    "    \n",
    "- Five examples of steady state behavior in coupled process models can be found in the following notebooks:\n",
    "\n",
    "    1) [Basic](http://localhost:8888/notebooks/notebooks/coupled_process_elements/model_basic_steady_solution.ipynb) the simplest landscape evolution model in the terrainbento package.\n",
    "\n",
    "    2) [BasicVm](http://localhost:8888/notebooks/notebooks/coupled_process_elements/model_basic_var_m_steady_solution.ipynb) which permits the drainage area exponent to change\n",
    "\n",
    "    3) [BasicCh](http://localhost:8888/notebooks/notebooks/coupled_process_elements/model_basicCh_steady_solution.ipynb) which uses a non-linear hillslope erosion and transport law\n",
    "\n",
    "    4) [BasicVs](http://localhost:8888/notebooks/notebooks/coupled_process_elements/model_basicVs_steady_solution.ipynb) which uses variable source area hydrology\n",
    "\n",
    "    5) [BasisRt](http://localhost:8888/notebooks/notebooks/coupled_process_elements/model_basicRt_steady_solution.ipynb) which allows for two lithologies with different K values"
   ]
  },
  {
   "cell_type": "code",
   "execution_count": null,
   "metadata": {},
   "outputs": [],
   "source": []
  }
 ],
 "metadata": {
  "kernelspec": {
   "display_name": "Python 3",
   "language": "python",
   "name": "python3"
  },
  "language_info": {
   "codemirror_mode": {
    "name": "ipython",
    "version": 3
   },
   "file_extension": ".py",
   "mimetype": "text/x-python",
   "name": "python",
   "nbconvert_exporter": "python",
   "pygments_lexer": "ipython3",
   "version": "3.7.3"
  }
 },
 "nbformat": 4,
 "nbformat_minor": 2
}
